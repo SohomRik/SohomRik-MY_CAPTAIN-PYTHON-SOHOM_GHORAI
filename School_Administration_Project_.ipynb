{
  "nbformat": 4,
  "nbformat_minor": 0,
  "metadata": {
    "colab": {
      "name": "School Administration Project .ipynb",
      "provenance": []
    },
    "kernelspec": {
      "name": "python3",
      "display_name": "Python 3"
    },
    "language_info": {
      "name": "python"
    }
  },
  "cells": [
    {
      "cell_type": "code",
      "metadata": {
        "colab": {
          "base_uri": "https://localhost:8080/"
        },
        "id": "8ZMwg3TUqb9T",
        "outputId": "d5625d6b-6eb0-46af-826c-163c500d0f3e"
      },
      "source": [
        "#Project\n",
        "\n",
        "import csv\n",
        "\n",
        "def write_into_csv(info_list):\n",
        "    with open ('student_info.csv', 'a',newline='')as csv_file:\n",
        "        writer = csv.writer(csv_file)\n",
        "        \n",
        "        if csv_file.tell() == 0:\n",
        "            writer.writerow([\"Name\" , \"Age\" , \"Contact Number\" , \"Email ID\"])\n",
        "              \n",
        "        writer.writerow(info_list)\n",
        "        \n",
        "if __name__ == '__main__':\n",
        "    condition = True\n",
        "    student_num = 1\n",
        "    while(condition):\n",
        "        student_info = input(\"Enter Student Information for student #{} in the following format (Name Age Contact_number Email_ID): \".format(student_num))\n",
        "       \n",
        "     #split\n",
        "        student_info_list = student_info.split(' ')\n",
        "        print(\"\\nThe entered information is - \\nName : {}\\nAge : {}\\nContact_Number : {}\\nE-Mail_ID : {}\"\n",
        "         .format(student_info_list[0], student_info_list[1], student_info_list[2], student_info_list[3]))\n",
        "       \n",
        "        choice_check = input(\"Is the entered information is correct ? (yes/no):\")\n",
        "        if choice_check == \"yes\":\n",
        "         write_into_csv(student_info_list)\n",
        "         condition_check = input(\"Enter (yes/no) if you want to enter new information : \")\n",
        "         if condition_check == \"yes\":\n",
        "            condition = True\n",
        "            student_num = student_num + 1\n",
        "         elif condition_check == \"no\":\n",
        "            condition = False\n",
        "        elif choice_check == \"no\":\n",
        "          print(\"Please re-enter the values\")\n",
        "        \n",
        "    \n",
        "       "
      ],
      "execution_count": 8,
      "outputs": [
        {
          "output_type": "stream",
          "text": [
            "Enter Student Information for student #1 in the following format (Name Age Contact_number Email_ID): Sohom 19 8373845322 sohom9@gmail.com\n",
            "\n",
            "The entered information is - \n",
            "Name : Sohom\n",
            "Age : 19\n",
            "Contact_Number : 8373845322\n",
            "E-Mail_ID : sohom9@gmail.com\n",
            "Is the entered information is correct ? (yes/no):yes\n",
            "Enter (yes/no) if you want to enter new information : yes\n",
            "Enter Student Information for student #2 in the following format (Name Age Contact_number Email_ID): Joy 17 9862549746 abc@xyz.com\n",
            "\n",
            "The entered information is - \n",
            "Name : Joy\n",
            "Age : 17\n",
            "Contact_Number : 9862549746\n",
            "E-Mail_ID : abc@xyz.com\n",
            "Is the entered information is correct ? (yes/no):yes\n",
            "Enter (yes/no) if you want to enter new information : yes\n",
            "Enter Student Information for student #3 in the following format (Name Age Contact_number Email_ID): Kaustav 25 7407596342 kv756@yahoo.com\n",
            "\n",
            "The entered information is - \n",
            "Name : Kaustav\n",
            "Age : 25\n",
            "Contact_Number : 7407596342\n",
            "E-Mail_ID : kv756@yahoo.com\n",
            "Is the entered information is correct ? (yes/no):yes\n",
            "Enter (yes/no) if you want to enter new information : no\n"
          ],
          "name": "stdout"
        }
      ]
    }
  ]
}